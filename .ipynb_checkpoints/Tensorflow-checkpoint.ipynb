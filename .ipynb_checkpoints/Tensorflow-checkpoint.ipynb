{
 "cells": [
  {
   "cell_type": "markdown",
   "metadata": {},
   "source": [
    "## 1. Use Tensorflow to create model\n",
    "Use Tensorflow to create a model to predict the species of Iris from a flower's sepal width, sepal length, petal width, and petal length.\n",
    "\n",
    "\n",
    "## 2. Split the data into training and testing\n",
    "Split the data set into a training set and a testing set.\n",
    "You should investigate the best way to do this, and list any online references used in your notebook.\n",
    "If you wish to, you can write some code to randomly separate the data on the fly."
   ]
  },
  {
   "cell_type": "code",
   "execution_count": 13,
   "metadata": {},
   "outputs": [],
   "source": [
    "# adapted from: https://www.tensorflow.org/get_started/estimator\n",
    "from __future__ import absolute_import\n",
    "from __future__ import division\n",
    "from __future__ import print_function\n",
    "\n",
    "import os\n",
    "from six.moves.urllib.request import urlopen\n",
    "\n",
    "import numpy as np\n",
    "import tensorflow as tf\n",
    "\n",
    "# Data sets\n",
    "IRIS_TRAINING = \"iris_training.csv\"\n",
    "IRIS_TRAINING_URL = \"http://download.tensorflow.org/data/iris_training.csv\"\n",
    "\n",
    "IRIS_TEST = \"iris_test.csv\"\n",
    "IRIS_TEST_URL = \"http://download.tensorflow.org/data/iris_test.csv\""
   ]
  },
  {
   "cell_type": "markdown",
   "metadata": {
    "collapsed": true
   },
   "source": [
    "## 3. Train the model\n",
    "Use the testing set to train your model\n",
    "\n",
    "## 4. Test the model\n",
    "Use the testing set to test your model, clearly calculating and displaying the error rate."
   ]
  },
  {
   "cell_type": "code",
   "execution_count": 14,
   "metadata": {},
   "outputs": [
    {
     "name": "stdout",
     "output_type": "stream",
     "text": [
      "INFO:tensorflow:Using default config.\n",
      "INFO:tensorflow:Using config: {'_model_dir': '/tmp/iris_model', '_tf_random_seed': 1, '_save_summary_steps': 100, '_save_checkpoints_secs': 600, '_save_checkpoints_steps': None, '_session_config': None, '_keep_checkpoint_max': 5, '_keep_checkpoint_every_n_hours': 10000, '_log_step_count_steps': 100}\n",
      "INFO:tensorflow:Create CheckpointSaverHook.\n",
      "INFO:tensorflow:Restoring parameters from /tmp/iris_model\\model.ckpt-8000\n",
      "INFO:tensorflow:Saving checkpoints for 8001 into /tmp/iris_model\\model.ckpt.\n",
      "INFO:tensorflow:loss = 7.37243, step = 8001\n",
      "INFO:tensorflow:global_step/sec: 687.26\n",
      "INFO:tensorflow:loss = 2.56839, step = 8101 (0.146 sec)\n",
      "INFO:tensorflow:global_step/sec: 716.072\n",
      "INFO:tensorflow:loss = 5.30318, step = 8201 (0.140 sec)\n",
      "INFO:tensorflow:global_step/sec: 726.226\n",
      "INFO:tensorflow:loss = 4.46184, step = 8301 (0.138 sec)\n",
      "INFO:tensorflow:global_step/sec: 736.67\n",
      "INFO:tensorflow:loss = 6.82773, step = 8401 (0.137 sec)\n",
      "INFO:tensorflow:global_step/sec: 731.42\n",
      "INFO:tensorflow:loss = 3.62305, step = 8501 (0.136 sec)\n",
      "INFO:tensorflow:global_step/sec: 716.07\n",
      "INFO:tensorflow:loss = 2.45095, step = 8601 (0.140 sec)\n",
      "INFO:tensorflow:global_step/sec: 747.431\n",
      "INFO:tensorflow:loss = 4.1335, step = 8701 (0.134 sec)\n",
      "INFO:tensorflow:global_step/sec: 736.676\n",
      "INFO:tensorflow:loss = 10.9892, step = 8801 (0.136 sec)\n",
      "INFO:tensorflow:global_step/sec: 742.018\n",
      "INFO:tensorflow:loss = 3.92619, step = 8901 (0.135 sec)\n",
      "INFO:tensorflow:global_step/sec: 721.107\n",
      "INFO:tensorflow:loss = 1.04338, step = 9001 (0.140 sec)\n",
      "INFO:tensorflow:global_step/sec: 741.988\n",
      "INFO:tensorflow:loss = 4.228, step = 9101 (0.135 sec)\n",
      "INFO:tensorflow:global_step/sec: 736.693\n",
      "INFO:tensorflow:loss = 1.75531, step = 9201 (0.135 sec)\n",
      "INFO:tensorflow:global_step/sec: 752.909\n",
      "INFO:tensorflow:loss = 3.01455, step = 9301 (0.133 sec)\n",
      "INFO:tensorflow:global_step/sec: 747.457\n",
      "INFO:tensorflow:loss = 3.70042, step = 9401 (0.134 sec)\n",
      "INFO:tensorflow:global_step/sec: 742.013\n",
      "INFO:tensorflow:loss = 3.92014, step = 9501 (0.135 sec)\n",
      "INFO:tensorflow:global_step/sec: 752.922\n",
      "INFO:tensorflow:loss = 3.59839, step = 9601 (0.134 sec)\n",
      "INFO:tensorflow:global_step/sec: 609.512\n",
      "INFO:tensorflow:loss = 5.21187, step = 9701 (0.163 sec)\n",
      "INFO:tensorflow:global_step/sec: 609.507\n",
      "INFO:tensorflow:loss = 4.82822, step = 9801 (0.165 sec)\n",
      "INFO:tensorflow:global_step/sec: 602.348\n",
      "INFO:tensorflow:loss = 1.86246, step = 9901 (0.166 sec)\n",
      "INFO:tensorflow:Saving checkpoints for 10000 into /tmp/iris_model\\model.ckpt.\n",
      "INFO:tensorflow:Loss for final step: 4.16319.\n",
      "INFO:tensorflow:Starting evaluation at 2017-11-16-14:01:47\n",
      "INFO:tensorflow:Restoring parameters from /tmp/iris_model\\model.ckpt-10000\n",
      "INFO:tensorflow:Finished evaluation at 2017-11-16-14:01:47\n",
      "INFO:tensorflow:Saving dict for global step 10000: accuracy = 0.966667, average_loss = 0.126482, global_step = 10000, loss = 3.79445\n",
      "\n",
      "Test Accuracy: 0.966667\n",
      "\n",
      "INFO:tensorflow:Restoring parameters from /tmp/iris_model\\model.ckpt-10000\n",
      "New Samples, Class Predictions:    [array([b'1'], dtype=object), array([b'1'], dtype=object)]\n",
      "\n"
     ]
    }
   ],
   "source": [
    "# adapted from: https://www.tensorflow.org/get_started/estimator\n",
    "def main():\n",
    "  # If the training and test sets aren't stored locally, download them.\n",
    "  if not os.path.exists(IRIS_TRAINING):\n",
    "    raw = urlopen(IRIS_TRAINING_URL).read()\n",
    "    with open(IRIS_TRAINING, \"wb\") as f:\n",
    "      f.write(raw)\n",
    "\n",
    "  if not os.path.exists(IRIS_TEST):\n",
    "    raw = urlopen(IRIS_TEST_URL).read()\n",
    "    with open(IRIS_TEST, \"wb\") as f:\n",
    "      f.write(raw)\n",
    "\n",
    "  # Load datasets.\n",
    "  training_set = tf.contrib.learn.datasets.base.load_csv_with_header(\n",
    "      filename=IRIS_TRAINING,\n",
    "      target_dtype=np.int,\n",
    "      features_dtype=np.float32)\n",
    "  test_set = tf.contrib.learn.datasets.base.load_csv_with_header(\n",
    "      filename=IRIS_TEST,\n",
    "      target_dtype=np.int,\n",
    "      features_dtype=np.float32)\n",
    "\n",
    "  # Specify that all features have real-value data\n",
    "  feature_columns = [tf.feature_column.numeric_column(\"x\", shape=[4])]\n",
    "\n",
    "  # Build 3 layer DNN with 10, 20, 10 units respectively.\n",
    "  classifier = tf.estimator.DNNClassifier(feature_columns=feature_columns,\n",
    "                                          hidden_units=[10, 20, 10],\n",
    "                                          n_classes=3,\n",
    "                                          model_dir=\"/tmp/iris_model\")\n",
    "  # Define the training inputs\n",
    "  train_input_fn = tf.estimator.inputs.numpy_input_fn(\n",
    "      x={\"x\": np.array(training_set.data)},\n",
    "      y=np.array(training_set.target),\n",
    "      num_epochs=None,\n",
    "      shuffle=True)\n",
    "\n",
    "  # Train model.\n",
    "  classifier.train(input_fn=train_input_fn, steps=2000)\n",
    "\n",
    "  # Define the test inputs\n",
    "  test_input_fn = tf.estimator.inputs.numpy_input_fn(\n",
    "      x={\"x\": np.array(test_set.data)},\n",
    "      y=np.array(test_set.target),\n",
    "      num_epochs=1,\n",
    "      shuffle=False)\n",
    "\n",
    "  # Evaluate accuracy.\n",
    "  accuracy_score = classifier.evaluate(input_fn=test_input_fn)[\"accuracy\"]\n",
    "\n",
    "  print(\"\\nTest Accuracy: {0:f}\\n\".format(accuracy_score))\n",
    "\n",
    "  # Classify two new flower samples.\n",
    "  new_samples = np.array(\n",
    "      [[6.4, 3.2, 4.5, 1.5],\n",
    "       [5.8, 3.1, 5.0, 1.7]], dtype=np.float32)\n",
    "  predict_input_fn = tf.estimator.inputs.numpy_input_fn(\n",
    "      x={\"x\": new_samples},\n",
    "      num_epochs=1,\n",
    "      shuffle=False)\n",
    "\n",
    "  predictions = list(classifier.predict(input_fn=predict_input_fn))\n",
    "  predicted_classes = [p[\"classes\"] for p in predictions]\n",
    "\n",
    "  print(\n",
    "      \"New Samples, Class Predictions:    {}\\n\"\n",
    "      .format(predicted_classes))\n",
    "\n",
    "if __name__ == \"__main__\":\n",
    "    main()"
   ]
  },
  {
   "cell_type": "code",
   "execution_count": null,
   "metadata": {
    "collapsed": true
   },
   "outputs": [],
   "source": [
    "## 4. Test the model\n",
    "Use the testing set to test your model, clearly calculating and displaying the error rate."
   ]
  },
  {
   "cell_type": "code",
   "execution_count": 8,
   "metadata": {},
   "outputs": [
    {
     "ename": "NameError",
     "evalue": "name 'classifier' is not defined",
     "output_type": "error",
     "traceback": [
      "\u001b[1;31m---------------------------------------------------------------------------\u001b[0m",
      "\u001b[1;31mNameError\u001b[0m                                 Traceback (most recent call last)",
      "\u001b[1;32m<ipython-input-8-2b112a448c88>\u001b[0m in \u001b[0;36m<module>\u001b[1;34m()\u001b[0m\n\u001b[0;32m      1\u001b[0m \u001b[1;31m# Evaluate accuracy.\u001b[0m\u001b[1;33m\u001b[0m\u001b[1;33m\u001b[0m\u001b[0m\n\u001b[1;32m----> 2\u001b[1;33m \u001b[0maccuracy_score\u001b[0m \u001b[1;33m=\u001b[0m \u001b[0mclassifier\u001b[0m\u001b[1;33m.\u001b[0m\u001b[0mevaluate\u001b[0m\u001b[1;33m(\u001b[0m\u001b[0minput_fn\u001b[0m\u001b[1;33m=\u001b[0m\u001b[0mtest_input_fn\u001b[0m\u001b[1;33m)\u001b[0m\u001b[1;33m[\u001b[0m\u001b[1;34m\"accuracy\"\u001b[0m\u001b[1;33m]\u001b[0m\u001b[1;33m\u001b[0m\u001b[0m\n\u001b[0m\u001b[0;32m      3\u001b[0m \u001b[1;33m\u001b[0m\u001b[0m\n\u001b[0;32m      4\u001b[0m \u001b[0mprint\u001b[0m\u001b[1;33m(\u001b[0m\u001b[1;34m\"\\nTest Accuracy: {0:f}\\n\"\u001b[0m\u001b[1;33m.\u001b[0m\u001b[0mformat\u001b[0m\u001b[1;33m(\u001b[0m\u001b[0maccuracy_score\u001b[0m\u001b[1;33m)\u001b[0m\u001b[1;33m)\u001b[0m\u001b[1;33m\u001b[0m\u001b[0m\n\u001b[0;32m      5\u001b[0m \u001b[1;33m\u001b[0m\u001b[0m\n",
      "\u001b[1;31mNameError\u001b[0m: name 'classifier' is not defined"
     ]
    }
   ],
   "source": [
    "  # Evaluate accuracy.\n",
    "  accuracy_score = classifier.evaluate(input_fn=test_input_fn)[\"accuracy\"]\n",
    "\n",
    "  print(\"\\nTest Accuracy: {0:f}\\n\".format(accuracy_score))\n",
    "\n",
    "  # Classify two new flower samples.\n",
    "  new_samples = np.array(\n",
    "      [[6.4, 3.2, 4.5, 1.5],\n",
    "       [5.8, 3.1, 5.0, 1.7]], dtype=np.float32)\n",
    "  predict_input_fn = tf.estimator.inputs.numpy_input_fn(\n",
    "      x={\"x\": new_samples},\n",
    "      num_epochs=1,\n",
    "      shuffle=False)\n",
    "\n",
    "  predictions = list(classifier.predict(input_fn=predict_input_fn))\n",
    "  predicted_classes = [p[\"classes\"] for p in predictions]\n",
    "\n",
    "  print(\n",
    "      \"New Samples, Class Predictions:    {}\\n\"\n",
    "      .format(predicted_classes))\n",
    "\n",
    "if __name__ == \"__main__\":\n",
    "    main()"
   ]
  },
  {
   "cell_type": "code",
   "execution_count": null,
   "metadata": {
    "collapsed": true
   },
   "outputs": [],
   "source": []
  }
 ],
 "metadata": {
  "kernelspec": {
   "display_name": "Python 3",
   "language": "python",
   "name": "python3"
  },
  "language_info": {
   "codemirror_mode": {
    "name": "ipython",
    "version": 3
   },
   "file_extension": ".py",
   "mimetype": "text/x-python",
   "name": "python",
   "nbconvert_exporter": "python",
   "pygments_lexer": "ipython3",
   "version": "3.6.3"
  }
 },
 "nbformat": 4,
 "nbformat_minor": 2
}
